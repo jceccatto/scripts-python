{
 "cells": [
  {
   "cell_type": "code",
   "execution_count": null,
   "id": "f762c497",
   "metadata": {},
   "outputs": [],
   "source": [
    "from PyPDF2 import PdfFileMerger\n",
    "import os\n",
    "\n",
    "#var = os.getcwd() For extracting from another folder\n",
    "merger = PdfFileMerger()\n",
    "for items in os.listdir():\n",
    "    if items.endswith('.pdf'):\n",
    "        merger.append(items)\n",
    "merger.write(\"Final_pdf.pdf\")\n",
    "merger = PdfFileMerger()\n",
    "with open(originalFile, 'rb') as fin:\n",
    "    merger.append(PdfFileReader(fin))\n",
    "os.remove(originalFile)\n",
    "merge.close()"
   ]
  }
 ],
 "metadata": {
  "kernelspec": {
   "display_name": "Python 3 (ipykernel)",
   "language": "python",
   "name": "python3"
  },
  "language_info": {
   "codemirror_mode": {
    "name": "ipython",
    "version": 3
   },
   "file_extension": ".py",
   "mimetype": "text/x-python",
   "name": "python",
   "nbconvert_exporter": "python",
   "pygments_lexer": "ipython3",
   "version": "3.10.8"
  }
 },
 "nbformat": 4,
 "nbformat_minor": 5
}

{
 "cells": [
  {
   "cell_type": "code",
   "execution_count": null,
   "id": "17d125a8",
   "metadata": {},
   "outputs": [],
   "source": [
    "import pyttsx3\n",
    "\n",
    "book=open(r*book.txt)\n",
    "book_text=book.readlines()\n",
    "engine = pyttsx3.init()\n",
    "for i in book_text:\n",
    "    engine.say(i)\n",
    "    engine.runAndWait()"
   ]
  }
 ],
 "metadata": {
  "kernelspec": {
   "display_name": "Python 3 (ipykernel)",
   "language": "python",
   "name": "python3"
  },
  "language_info": {
   "codemirror_mode": {
    "name": "ipython",
    "version": 3
   },
   "file_extension": ".py",
   "mimetype": "text/x-python",
   "name": "python",
   "nbconvert_exporter": "python",
   "pygments_lexer": "ipython3",
   "version": "3.10.8"
  }
 },
 "nbformat": 4,
 "nbformat_minor": 5
}

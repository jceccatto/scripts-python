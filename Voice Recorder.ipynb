{
 "cells": [
  {
   "cell_type": "code",
   "execution_count": null,
   "id": "597b9478",
   "metadata": {},
   "outputs": [],
   "source": [
    "import sounddevice\n",
    "from scipy.io.wavfile import write\n",
    "\n",
    "fs=44100 #sample_rate\n",
    "second=int(input(\"Enter the time duration in seconds: \")) #enter your required time..\n",
    "print(\"recording.....\\n\")\n",
    "record_voice=sounddevice.rec(int(second * fs), samplerate=fe,channels=2)\n",
    "sounddevice.wait()\n",
    "write(\"out.wav\", fs, record_voice)\n",
    "print(\"Finished... \\nPlease Check it...\")"
   ]
  }
 ],
 "metadata": {
  "kernelspec": {
   "display_name": "Python 3 (ipykernel)",
   "language": "python",
   "name": "python3"
  },
  "language_info": {
   "codemirror_mode": {
    "name": "ipython",
    "version": 3
   },
   "file_extension": ".py",
   "mimetype": "text/x-python",
   "name": "python",
   "nbconvert_exporter": "python",
   "pygments_lexer": "ipython3",
   "version": "3.10.8"
  }
 },
 "nbformat": 4,
 "nbformat_minor": 5
}

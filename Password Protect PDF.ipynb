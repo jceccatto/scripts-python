{
 "cells": [
  {
   "cell_type": "code",
   "execution_count": null,
   "id": "dd6ada9e",
   "metadata": {},
   "outputs": [],
   "source": [
    "from PyPDF2 import PdfFileWriter, PdfFileReader\n",
    "import getpass\n",
    "\n",
    "pdfwriter = PdfFileWriter()\n",
    "pdf = PdfFileReader(\"1.pdf\")\n",
    "for page_num in range(pdf.numPages):\n",
    "    pdfwriter.addPage(pdf.getPage(page_num))\n",
    "passw = getpass.getpass(prompt='Enter Password: ')\n",
    "pdfwriter.encrypt(passw)\n",
    "with open('ho.pdf', 'wb') as f:\n",
    "    pdfwriter.write(f)\n"
   ]
  }
 ],
 "metadata": {
  "kernelspec": {
   "display_name": "Python 3 (ipykernel)",
   "language": "python",
   "name": "python3"
  },
  "language_info": {
   "codemirror_mode": {
    "name": "ipython",
    "version": 3
   },
   "file_extension": ".py",
   "mimetype": "text/x-python",
   "name": "python",
   "nbconvert_exporter": "python",
   "pygments_lexer": "ipython3",
   "version": "3.10.8"
  }
 },
 "nbformat": 4,
 "nbformat_minor": 5
}
